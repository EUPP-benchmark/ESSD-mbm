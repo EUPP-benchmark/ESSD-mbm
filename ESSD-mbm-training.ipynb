{
 "cells": [
  {
   "cell_type": "markdown",
   "id": "tired-career",
   "metadata": {},
   "source": [
    "## Preliminaries"
   ]
  },
  {
   "cell_type": "markdown",
   "id": "77a7ad57",
   "metadata": {},
   "source": [
    "Timestamping"
   ]
  },
  {
   "cell_type": "code",
   "execution_count": null,
   "id": "83008553",
   "metadata": {},
   "outputs": [],
   "source": [
    "import time\n",
    "import datetime\n",
    "print('Starting training at:')\n",
    "print(datetime.datetime.now())\n",
    "start_time = time.time()\n",
    "print('\\n')"
   ]
  },
  {
   "cell_type": "markdown",
   "id": "verified-twenty",
   "metadata": {},
   "source": [
    "Setting the path"
   ]
  },
  {
   "cell_type": "code",
   "execution_count": null,
   "id": "productive-active",
   "metadata": {},
   "outputs": [],
   "source": [
    "import sys, os\n",
    "sys.path.extend([os.path.abspath('./pythie')])"
   ]
  },
  {
   "cell_type": "markdown",
   "id": "golden-montreal",
   "metadata": {},
   "source": [
    "Importing external modules"
   ]
  },
  {
   "cell_type": "code",
   "execution_count": null,
   "id": "important-settle",
   "metadata": {},
   "outputs": [],
   "source": [
    "import pickle\n",
    "import matplotlib.pyplot as plt\n",
    "import numpy as np"
   ]
  },
  {
   "cell_type": "code",
   "execution_count": null,
   "id": "34c0fdad",
   "metadata": {},
   "outputs": [],
   "source": [
    "import xarray as xr"
   ]
  },
  {
   "cell_type": "markdown",
   "id": "amazing-dimension",
   "metadata": {},
   "source": [
    "Importing internal modules"
   ]
  },
  {
   "cell_type": "code",
   "execution_count": null,
   "id": "0fc6d7fd",
   "metadata": {},
   "outputs": [],
   "source": [
    "from core.data import Data\n",
    "import postprocessors.MBM as MBM\n",
    "import config"
   ]
  },
  {
   "cell_type": "markdown",
   "id": "f43e50fc",
   "metadata": {},
   "source": [
    "## Loading the data"
   ]
  },
  {
   "cell_type": "markdown",
   "id": "8909278b",
   "metadata": {},
   "source": [
    "Loading with xarray"
   ]
  },
  {
   "cell_type": "code",
   "execution_count": null,
   "id": "a7923ea1",
   "metadata": {},
   "outputs": [],
   "source": [
    "rfcs_data = xr.open_dataarray(config.path_to_data + 'ESSD_benchmark_training_data_forecasts.nc')\n",
    "robs_data = xr.open_dataarray(config.path_to_data + 'ESSD_benchmark_training_data_observations.nc')"
   ]
  },
  {
   "cell_type": "markdown",
   "id": "581b88ac",
   "metadata": {},
   "source": [
    "Transposing to agree with Pythie data model"
   ]
  },
  {
   "cell_type": "code",
   "execution_count": null,
   "id": "7f723da0",
   "metadata": {},
   "outputs": [],
   "source": [
    "rfcs_data = rfcs_data.transpose('time', 'year', 'number', 'step', 'station_id')\n",
    "robs_data = robs_data.transpose('time', 'year', 'step', 'station_id')"
   ]
  },
  {
   "cell_type": "markdown",
   "id": "818d48cc",
   "metadata": {},
   "source": [
    "## Setting the season indices"
   ]
  },
  {
   "cell_type": "code",
   "execution_count": null,
   "id": "6bd72f3a",
   "metadata": {},
   "outputs": [],
   "source": [
    "season_index = dict()\n",
    "season_index[2017] = {'JFM': slice('2017-01-01', '2017-03-31'),\n",
    "                      'AMJ': slice('2017-04-01', '2017-06-30'),\n",
    "                      'JAS': slice('2017-07-01', '2017-09-30'),\n",
    "                      'OND': slice('2017-10-01', '2017-12-31')\n",
    "                     }\n",
    "\n",
    "season_index[2018] = {'JFM': slice('2018-01-01', '2018-03-31'),\n",
    "                      'AMJ': slice('2018-04-01', '2018-06-30'),\n",
    "                      'JAS': slice('2018-07-01', '2018-09-30'),\n",
    "                      'OND': slice('2018-10-01', '2018-12-31')\n",
    "                     }"
   ]
  },
  {
   "cell_type": "markdown",
   "id": "b4857fb4",
   "metadata": {},
   "source": [
    "## Looping the training on the season"
   ]
  },
  {
   "cell_type": "code",
   "execution_count": null,
   "id": "be92c92f",
   "metadata": {
    "scrolled": true
   },
   "outputs": [],
   "source": [
    "postprocessors = dict()\n",
    "postprocessors[2017] = dict()\n",
    "postprocessors[2018] = dict()\n",
    "\n",
    "for year in season_index:\n",
    "    for season in season_index[year]:\n",
    "        print('Treating season '+season+str(year)+' ...')\n",
    "        # selecting the season's data\n",
    "        rfcs = rfcs_data.sel(time=season_index[year][season])\n",
    "        robs = robs_data.sel(time=season_index[year][season])\n",
    "        \n",
    "        # converting to numpy arrays in °C\n",
    "        rfcs = rfcs.to_numpy() - 273.15\n",
    "        robs = robs.to_numpy() - 273.15\n",
    "        \n",
    "        # arranging all the reforecasts of different years along a single axis\n",
    "        rfcs = rfcs.reshape((rfcs.shape[0]*rfcs.shape[1], rfcs.shape[2], 1, rfcs.shape[3], rfcs.shape[4]))\n",
    "        robs = robs.reshape((robs.shape[0]*robs.shape[1], 1, 1, robs.shape[2], robs.shape[3]))\n",
    "        \n",
    "        # creating the pythie data model\n",
    "        data_t2_fcs = Data(rfcs[np.newaxis, ..., np.newaxis])\n",
    "        data_t2_obs = Data(robs[np.newaxis, ..., np.newaxis])\n",
    "        \n",
    "        # creating and training a Pythie postprocessor\n",
    "        postprocessor = MBM.EnsembleAbsCRPSCorrection()\n",
    "        postprocessor.train(data_t2_obs, data_t2_fcs, ntrial=1)\n",
    "        \n",
    "        postprocessors[year][season] = postprocessor\n",
    "        print('Training of season finished at:')\n",
    "        print(datetime.datetime.now())\n",
    "        print('\\n')\n",
    "        \n"
   ]
  },
  {
   "cell_type": "markdown",
   "id": "904aadef",
   "metadata": {},
   "source": [
    "## Storing the output"
   ]
  },
  {
   "cell_type": "code",
   "execution_count": null,
   "id": "95b8df59",
   "metadata": {},
   "outputs": [],
   "source": [
    "with open(config.path_to_postprocessors + 'postprocessors.pickle', 'wb') as fo:\n",
    "    pickle.dump(postprocessors, fo)"
   ]
  },
  {
   "cell_type": "markdown",
   "id": "013181e8",
   "metadata": {},
   "source": [
    "## Plotting the results with the last postprocessor"
   ]
  },
  {
   "cell_type": "markdown",
   "id": "8ab04824",
   "metadata": {},
   "source": [
    "Uncomment to check"
   ]
  },
  {
   "cell_type": "code",
   "execution_count": null,
   "id": "85535870",
   "metadata": {},
   "outputs": [],
   "source": [
    "# postprocessor.plot_parameters(grid_point=(200,0))"
   ]
  },
  {
   "cell_type": "code",
   "execution_count": null,
   "id": "9bc91d54",
   "metadata": {},
   "outputs": [],
   "source": [
    "# raw_crps = data_t2_fcs.CRPS(data_t2_obs)"
   ]
  },
  {
   "cell_type": "code",
   "execution_count": null,
   "id": "dbd7ca31",
   "metadata": {},
   "outputs": [],
   "source": [
    "# corr = postprocessor(data_t2_fcs)"
   ]
  },
  {
   "cell_type": "code",
   "execution_count": null,
   "id": "12ee5bfe",
   "metadata": {},
   "outputs": [],
   "source": [
    "# corr_crps = corr.CRPS(data_t2_obs)"
   ]
  },
  {
   "cell_type": "code",
   "execution_count": null,
   "id": "03d89932",
   "metadata": {},
   "outputs": [],
   "source": [
    "# ax = corr_crps.plot(grid_point=(200,0))\n",
    "# raw_crps.plot(grid_point=(200,0), ax=ax)"
   ]
  },
  {
   "cell_type": "markdown",
   "id": "bd17c110",
   "metadata": {},
   "source": [
    "## Final timing"
   ]
  },
  {
   "cell_type": "code",
   "execution_count": null,
   "id": "ebe055eb",
   "metadata": {},
   "outputs": [],
   "source": [
    "print('Training of all season finished at:')\n",
    "print(datetime.datetime.now())\n",
    "end_time = time.time()\n",
    "print('Time ellapsed:')\n",
    "print(str(end_time / 60) + 'minutes ellapsed.')\n"
   ]
  }
 ],
 "metadata": {
  "kernelspec": {
   "display_name": "Python 3 (ipykernel)",
   "language": "python",
   "name": "python3"
  },
  "language_info": {
   "codemirror_mode": {
    "name": "ipython",
    "version": 3
   },
   "file_extension": ".py",
   "mimetype": "text/x-python",
   "name": "python",
   "nbconvert_exporter": "python",
   "pygments_lexer": "ipython3",
   "version": "3.7.12"
  }
 },
 "nbformat": 4,
 "nbformat_minor": 5
}
