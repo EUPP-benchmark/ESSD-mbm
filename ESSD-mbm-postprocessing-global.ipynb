{
 "cells": [
  {
   "cell_type": "markdown",
   "id": "tired-career",
   "metadata": {},
   "source": [
    "## Preliminaries"
   ]
  },
  {
   "cell_type": "markdown",
   "id": "77a7ad57",
   "metadata": {},
   "source": [
    "Timestamping"
   ]
  },
  {
   "cell_type": "code",
   "execution_count": null,
   "id": "83008553",
   "metadata": {},
   "outputs": [],
   "source": [
    "import time\n",
    "import datetime\n",
    "print('Starting postprocessing at:')\n",
    "print(datetime.datetime.now())\n",
    "start_time = time.time()\n",
    "print('\\n')"
   ]
  },
  {
   "cell_type": "markdown",
   "id": "verified-twenty",
   "metadata": {},
   "source": [
    "Setting the path"
   ]
  },
  {
   "cell_type": "code",
   "execution_count": null,
   "id": "productive-active",
   "metadata": {},
   "outputs": [],
   "source": [
    "import sys, os\n",
    "sys.path.extend([os.path.abspath('./pythie')])"
   ]
  },
  {
   "cell_type": "markdown",
   "id": "golden-montreal",
   "metadata": {},
   "source": [
    "Importing external modules"
   ]
  },
  {
   "cell_type": "code",
   "execution_count": null,
   "id": "important-settle",
   "metadata": {},
   "outputs": [],
   "source": [
    "import pickle\n",
    "import matplotlib.pyplot as plt\n",
    "import numpy as np"
   ]
  },
  {
   "cell_type": "code",
   "execution_count": null,
   "id": "34c0fdad",
   "metadata": {},
   "outputs": [],
   "source": [
    "import xarray as xr"
   ]
  },
  {
   "cell_type": "markdown",
   "id": "amazing-dimension",
   "metadata": {},
   "source": [
    "Importing internal modules"
   ]
  },
  {
   "cell_type": "code",
   "execution_count": null,
   "id": "0fc6d7fd",
   "metadata": {},
   "outputs": [],
   "source": [
    "from core.data import Data\n",
    "import postprocessors.MBM as MBM\n",
    "import config"
   ]
  },
  {
   "cell_type": "markdown",
   "id": "f43e50fc",
   "metadata": {},
   "source": [
    "## Loading the data"
   ]
  },
  {
   "cell_type": "markdown",
   "id": "8909278b",
   "metadata": {},
   "source": [
    "Loading with xarray"
   ]
  },
  {
   "cell_type": "code",
   "execution_count": null,
   "id": "a7923ea1",
   "metadata": {},
   "outputs": [],
   "source": [
    "fcs_data = xr.open_dataarray(config.path_to_data + 'ESSD_benchmark_test_data_forecasts.nc')\n",
    "obs_data = xr.open_dataarray(config.path_to_data + 'ESSD_benchmark_test_data_observations.nc')"
   ]
  },
  {
   "cell_type": "markdown",
   "id": "581b88ac",
   "metadata": {},
   "source": [
    "Transposing to agree with Pythie data model"
   ]
  },
  {
   "cell_type": "code",
   "execution_count": null,
   "id": "7f723da0",
   "metadata": {},
   "outputs": [],
   "source": [
    "fcs_data = fcs_data.transpose('time', 'number', 'step', 'station_id')\n",
    "obs_data = obs_data.transpose('time', 'step', 'station_id')"
   ]
  },
  {
   "cell_type": "markdown",
   "id": "818d48cc",
   "metadata": {},
   "source": [
    "## Setting the season indices"
   ]
  },
  {
   "cell_type": "code",
   "execution_count": null,
   "id": "6bd72f3a",
   "metadata": {},
   "outputs": [],
   "source": [
    "season_index = dict()\n",
    "season_index[2017] = {'JFM': slice('2017-01-01', '2017-03-31'),\n",
    "                      'AMJ': slice('2017-04-01', '2017-06-30'),\n",
    "                      'JAS': slice('2017-07-01', '2017-09-30'),\n",
    "                      'OND': slice('2017-10-01', '2017-12-31')\n",
    "                     }\n",
    "\n",
    "season_index[2018] = {'JFM': slice('2018-01-01', '2018-03-31'),\n",
    "                      'AMJ': slice('2018-04-01', '2018-06-30'),\n",
    "                      'JAS': slice('2018-07-01', '2018-09-30'),\n",
    "                      'OND': slice('2018-10-01', '2018-12-31')\n",
    "                     }"
   ]
  },
  {
   "cell_type": "markdown",
   "id": "b4857fb4",
   "metadata": {},
   "source": [
    "## Looping on the seasons and postprocessing"
   ]
  },
  {
   "cell_type": "code",
   "execution_count": null,
   "id": "c9cc0680",
   "metadata": {},
   "outputs": [],
   "source": [
    "with open('postprocessor-global.pickle', 'rb') as fo:\n",
    "    postprocessor = pickle.load(fo)"
   ]
  },
  {
   "cell_type": "code",
   "execution_count": null,
   "id": "be92c92f",
   "metadata": {
    "scrolled": true
   },
   "outputs": [],
   "source": [
    "# Postprocessing every season with the same global postprocessor !\n",
    "postprocessed_forecasts = dict()\n",
    "postprocessed_forecasts[2017] = dict()\n",
    "postprocessed_forecasts[2018] = dict()\n",
    "\n",
    "\n",
    "for year in season_index:\n",
    "    for season in season_index[year]:\n",
    "        print('Postprocessing season '+season+str(year)+' started at:')\n",
    "        print(datetime.datetime.now())\n",
    "        print('...')\n",
    "        # selecting the season's data\n",
    "        fcs = fcs_data.sel(time=season_index[year][season])\n",
    "        obs = obs_data.sel(time=season_index[year][season])\n",
    "        \n",
    "        # converting to numpy arrays in °C\n",
    "        fcs = fcs.to_numpy() - 273.15\n",
    "        obs = obs.to_numpy() - 273.15\n",
    "        \n",
    "        # arranging all the forecasts to fit the Pythie data model\n",
    "        fcs = fcs.reshape((1, fcs.shape[0], fcs.shape[1], 1, fcs.shape[2], fcs.shape[3], 1))\n",
    "        obs = obs.reshape((1, obs.shape[0], 1, 1, obs.shape[1], obs.shape[2], 1))\n",
    "        \n",
    "        # creating the pythie data\n",
    "        data_t2_fcs = Data(fcs)\n",
    "        data_t2_obs = Data(obs)\n",
    "        \n",
    "        # postprocessing and saving the result\n",
    "        corr_data_t2_fcs = postprocessor(data_t2_fcs)\n",
    "        postprocessed_forecasts[year][season] = corr_data_t2_fcs\n",
    "        \n",
    "        print('Postprocessing of season finished at:')\n",
    "        print(datetime.datetime.now())\n",
    "        print('\\n')\n",
    "        \n"
   ]
  },
  {
   "cell_type": "markdown",
   "id": "dbf4b95f",
   "metadata": {},
   "source": [
    "Creating a final data object"
   ]
  },
  {
   "cell_type": "code",
   "execution_count": null,
   "id": "dfdd5f22",
   "metadata": {},
   "outputs": [],
   "source": [
    "corr_data_t2_fcs_total = Data()\n",
    "\n",
    "for year in season_index:\n",
    "    for season in season_index[year]:\n",
    "        corr_data_t2_fcs_total.append_realizations(postprocessed_forecasts[year][season])\n"
   ]
  },
  {
   "cell_type": "markdown",
   "id": "96b09928",
   "metadata": {},
   "source": [
    "## Plotting the results of a given season"
   ]
  },
  {
   "cell_type": "markdown",
   "id": "fba6ae51",
   "metadata": {},
   "source": [
    "Uncomment to check"
   ]
  },
  {
   "cell_type": "code",
   "execution_count": null,
   "id": "88923188",
   "metadata": {},
   "outputs": [],
   "source": [
    "# raw_crps = data_t2_fcs.CRPS(data_t2_obs)"
   ]
  },
  {
   "cell_type": "code",
   "execution_count": null,
   "id": "4cea2a64",
   "metadata": {},
   "outputs": [],
   "source": [
    "# corr_crps = corr_data_t2_fcs.CRPS(data_t2_obs)"
   ]
  },
  {
   "cell_type": "code",
   "execution_count": null,
   "id": "2be54e67",
   "metadata": {},
   "outputs": [],
   "source": [
    "# fig = plt.figure(figsize=(12,10))\n",
    "# ax = fig.gca()\n",
    "# corr_crps.plot(grid_point=(200,0), ax)\n",
    "# raw_crps.plot(grid_point=(200,0), ax=ax)"
   ]
  },
  {
   "cell_type": "markdown",
   "id": "98fa6f9e",
   "metadata": {},
   "source": [
    "## Converting the postprocessed forecasts back to netCDF"
   ]
  },
  {
   "cell_type": "markdown",
   "id": "9aa9c37d",
   "metadata": {},
   "source": [
    "Creating a new forecasts xarray and updating it with the corrected forecasts"
   ]
  },
  {
   "cell_type": "code",
   "execution_count": null,
   "id": "e671b2da",
   "metadata": {},
   "outputs": [],
   "source": [
    "corrected_fcs_data = fcs_data.copy()"
   ]
  },
  {
   "cell_type": "code",
   "execution_count": null,
   "id": "6daff9fb",
   "metadata": {},
   "outputs": [],
   "source": [
    "# also converting back to °K\n",
    "corrected_fcs_data.data = np.squeeze(corr_data_t2_fcs_total.data) + 273.15"
   ]
  },
  {
   "cell_type": "markdown",
   "id": "440a5754",
   "metadata": {},
   "source": [
    "Deleting useless attributes for the benchmark"
   ]
  },
  {
   "cell_type": "code",
   "execution_count": null,
   "id": "61e1a0ef",
   "metadata": {},
   "outputs": [],
   "source": [
    "fcs_attrs_keys = list(corrected_fcs_data.attrs.keys())\n",
    "\n",
    "for key in fcs_attrs_keys:\n",
    "    if 'GRIB' in key:\n",
    "        del corrected_fcs_data.attrs[key]\n",
    "\n",
    "\n",
    "del corrected_fcs_data.attrs['coordinates']\n",
    "del corrected_fcs_data.attrs['standard_name']\n",
    "del corrected_fcs_data.attrs['model altitude source']\n",
    "del corrected_fcs_data.attrs['land usage source']\n",
    "del corrected_fcs_data.attrs['land usage legend']\n"
   ]
  },
  {
   "cell_type": "markdown",
   "id": "6b2d68db",
   "metadata": {},
   "source": [
    "Updating the attributes to identify the output dataset"
   ]
  },
  {
   "cell_type": "code",
   "execution_count": null,
   "id": "ba9872a8",
   "metadata": {},
   "outputs": [],
   "source": [
    "attrs = dict()\n",
    "# the current ESSD benchmark is the Tier 1 of the hacky benchmark\n",
    "# by the definition given here: https://portal.eumetnet.eu/display/PBM/Benchmark+Hacky+Phase+Tiers+Organization\n",
    "attrs['tier'] = '1'  \n",
    "attrs['experiment'] = 'ESSD-benchmark'\n",
    "attrs['institution'] = 'RMIB'\n",
    "attrs['model'] = 'Pythie-MBM-AbsCRPSmin-global'\n",
    "attrs['model_version'] = 'commit 21a29a9dc91f1bcd6b4f75caf0d4dbae4a375303'\n",
    "\n",
    "corrected_fcs_data.attrs.update(attrs)"
   ]
  },
  {
   "cell_type": "markdown",
   "id": "3886cb5c",
   "metadata": {},
   "source": [
    "Transposing back to the input dataset format"
   ]
  },
  {
   "cell_type": "code",
   "execution_count": null,
   "id": "e7f21c3e",
   "metadata": {},
   "outputs": [],
   "source": [
    "corrected_fcs_data = corrected_fcs_data.transpose('station_id', 'time', 'step', 'number')"
   ]
  },
  {
   "cell_type": "markdown",
   "id": "6488f1c5",
   "metadata": {},
   "source": [
    "Writing to file in netCDF4 format"
   ]
  },
  {
   "cell_type": "code",
   "execution_count": null,
   "id": "f3da168e",
   "metadata": {},
   "outputs": [],
   "source": [
    "# filename is \"<tier>_<experiment>_<institution>_<model>_<version>.nc\"\n",
    "del attrs['model_version']  # not needed in the filename\n",
    "file_info = '_'.join(attrs.values())\n",
    "file_name = config.path_to_output + file_info + '.nc'\n",
    "print('Saving the result to ' + file_name + ' ...')\n",
    "corrected_fcs_data.to_netcdf(file_name)"
   ]
  },
  {
   "cell_type": "markdown",
   "id": "49023723",
   "metadata": {},
   "source": [
    "## Plotting a given corrected forecast"
   ]
  },
  {
   "cell_type": "markdown",
   "id": "c9ba3a3b",
   "metadata": {},
   "source": [
    "Uncomment to check"
   ]
  },
  {
   "cell_type": "code",
   "execution_count": null,
   "id": "6afb0e7f",
   "metadata": {},
   "outputs": [],
   "source": [
    "# fig = plt.figure(figsize=(12,10))\n",
    "# ax = fig.gca()\n",
    "# fcs_data.isel(station_id=200,number=0,time=0).plot(ax=ax, label='raw')\n",
    "# corrected_fcs_data.isel(station_id=200,number=0,time=0).plot(ax=ax, label='corrected')\n",
    "# plt.legend()"
   ]
  },
  {
   "cell_type": "markdown",
   "id": "bd17c110",
   "metadata": {},
   "source": [
    "## Final timing"
   ]
  },
  {
   "cell_type": "code",
   "execution_count": null,
   "id": "ebe055eb",
   "metadata": {},
   "outputs": [],
   "source": [
    "print('Postprocessing finished at:')\n",
    "print(datetime.datetime.now())\n",
    "end_time = time.time()\n",
    "print('Time elapsed:')\n",
    "print(str((end_time - start_time) / 60) + ' minutes elapsed.')\n"
   ]
  }
 ],
 "metadata": {
  "kernelspec": {
   "display_name": "Python 3 (ipykernel)",
   "language": "python",
   "name": "python3"
  },
  "language_info": {
   "codemirror_mode": {
    "name": "ipython",
    "version": 3
   },
   "file_extension": ".py",
   "mimetype": "text/x-python",
   "name": "python",
   "nbconvert_exporter": "python",
   "pygments_lexer": "ipython3",
   "version": "3.7.12"
  }
 },
 "nbformat": 4,
 "nbformat_minor": 5
}
