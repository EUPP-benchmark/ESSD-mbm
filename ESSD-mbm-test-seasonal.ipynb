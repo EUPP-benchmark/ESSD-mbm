{
 "cells": [
  {
   "cell_type": "markdown",
   "id": "tired-career",
   "metadata": {},
   "source": [
    "## Preliminaries"
   ]
  },
  {
   "cell_type": "markdown",
   "id": "golden-montreal",
   "metadata": {},
   "source": [
    "Importing external modules"
   ]
  },
  {
   "cell_type": "code",
   "execution_count": null,
   "id": "34c0fdad",
   "metadata": {},
   "outputs": [],
   "source": [
    "import xarray as xr\n",
    "import matplotlib.pyplot as plt\n",
    "import numpy as np"
   ]
  },
  {
   "cell_type": "markdown",
   "id": "amazing-dimension",
   "metadata": {},
   "source": [
    "Importing internal modules"
   ]
  },
  {
   "cell_type": "code",
   "execution_count": null,
   "id": "0fc6d7fd",
   "metadata": {},
   "outputs": [],
   "source": [
    "import config"
   ]
  },
  {
   "cell_type": "markdown",
   "id": "f43e50fc",
   "metadata": {},
   "source": [
    "## Loading the data"
   ]
  },
  {
   "cell_type": "markdown",
   "id": "8909278b",
   "metadata": {},
   "source": [
    "Loading with xarray"
   ]
  },
  {
   "cell_type": "code",
   "execution_count": null,
   "id": "a7923ea1",
   "metadata": {},
   "outputs": [],
   "source": [
    "corrected_fcs_data = xr.open_dataarray(config.path_to_output + '1_ESSD-benchmark_RMIB_Pythie-MBM-AbsCRPSmin-seasonal.nc')\n",
    "fcs_data = xr.open_dataarray(config.path_to_data + 'ESSD_benchmark_test_data_forecasts.nc')\n",
    "obs_data = xr.open_dataarray(config.path_to_data + 'ESSD_benchmark_test_data_observations.nc')"
   ]
  },
  {
   "cell_type": "markdown",
   "id": "e87aa73c",
   "metadata": {},
   "source": [
    "## Plotting a given corrected forecast"
   ]
  },
  {
   "cell_type": "markdown",
   "id": "ffe24497",
   "metadata": {},
   "source": [
    "Uncomment to check"
   ]
  },
  {
   "cell_type": "code",
   "execution_count": null,
   "id": "a015c112",
   "metadata": {},
   "outputs": [],
   "source": [
    "fig = plt.figure(figsize=(14,10))\n",
    "ax = fig.gca()\n",
    "fcs_data.isel(station_id=200,number=0,time=0).plot(ax=ax, label='raw')\n",
    "corrected_fcs_data.isel(station_id=200,number=0,time=0).plot(ax=ax, label='corrected')\n",
    "obs_data.isel(station_id=200,time=0).plot(ax=ax, label='obs')\n",
    "plt.legend()"
   ]
  },
  {
   "cell_type": "markdown",
   "id": "e93b2939",
   "metadata": {},
   "source": [
    "## Plotting a scatter plot"
   ]
  },
  {
   "cell_type": "code",
   "execution_count": null,
   "id": "e85e1916",
   "metadata": {
    "scrolled": false
   },
   "outputs": [],
   "source": [
    "plt.figure(figsize=(14,10))\n",
    "plt.plot(obs_data.isel(station_id=200, step=4).to_numpy(), fcs_data.isel(station_id=200, step=4).to_numpy(), ls='', marker='o', ms=2., label='raw', color='tab:blue')\n",
    "plt.plot(obs_data.isel(station_id=200, step=4).to_numpy(), corrected_fcs_data.isel(station_id=200, step=4).to_numpy(), ls='', marker='o', ms=2., label='corrected', color='tab:orange')\n",
    "plt.xlabel('Observation [K]')\n",
    "plt.ylabel('Ensemble Forecast [K]')\n",
    "plt.title('Ensemble Forecast vs Observation at ' + str(4*6) + 'hrs lead time' + \n",
    "          ' and at station ' + str(obs_data.station_name[200].to_numpy()))\n",
    "# plt.legend()"
   ]
  },
  {
   "cell_type": "markdown",
   "id": "d6874fe9",
   "metadata": {},
   "source": [
    "Raw is blue, corrected is orange !"
   ]
  }
 ],
 "metadata": {
  "kernelspec": {
   "display_name": "Python 3 (ipykernel)",
   "language": "python",
   "name": "python3"
  },
  "language_info": {
   "codemirror_mode": {
    "name": "ipython",
    "version": 3
   },
   "file_extension": ".py",
   "mimetype": "text/x-python",
   "name": "python",
   "nbconvert_exporter": "python",
   "pygments_lexer": "ipython3",
   "version": "3.7.12"
  }
 },
 "nbformat": 4,
 "nbformat_minor": 5
}
